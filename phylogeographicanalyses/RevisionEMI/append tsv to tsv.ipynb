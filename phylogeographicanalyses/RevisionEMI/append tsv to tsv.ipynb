{
 "cells": [
  {
   "cell_type": "code",
   "execution_count": 1,
   "id": "02d1c08a",
   "metadata": {},
   "outputs": [],
   "source": [
    "import csv\n",
    "import re\n",
    "import unicodedata\n",
    "\n",
    "tsv_file1 = \"onlyb11.tsv\"\n",
    "tsv_file2 = \"statescoordinates.tsv.txt\"\n",
    "out_tsv_file = \"onlyb11latlong\"\n",
    "outtsvlatlong = []\n",
    "tsv2_dict = {}"
   ]
  },
  {
   "cell_type": "code",
   "execution_count": 2,
   "id": "3772621f",
   "metadata": {},
   "outputs": [],
   "source": [
    "# Read contents of TSV2 into a dictionary\n",
    "with open(tsv_file2, \"r\", encoding=\"utf-8\") as file2:\n",
    "    reader2 = csv.DictReader(file2, delimiter=\"\\t\")\n",
    "    for row in reader2:\n",
    "        state = row[\"state\"]\n",
    "        tsv2_dict[state] = {\"lat\": row[\"lat\"], \"long\": row[\"long\"]}"
   ]
  },
  {
   "cell_type": "code",
   "execution_count": 3,
   "id": "cc10ff54",
   "metadata": {},
   "outputs": [],
   "source": [
    "# Read contents of TSV1 and update rows with coordinates from TSV2\n",
    "with open(tsv_file1, \"r\", encoding=\"utf-8\") as file:\n",
    "    reader1 = csv.DictReader(file, delimiter=\"\\t\")\n",
    "    for row in reader1:\n",
    "        state_name = row[\"state\"]\n",
    "        if state_name in tsv2_dict:\n",
    "            row[\"lat\"] = tsv2_dict[state_name][\"lat\"]\n",
    "            row[\"long\"] = tsv2_dict[state_name][\"long\"]\n",
    "        outtsvlatlong.append(row)\n",
    "#print(outtsvlatlong)"
   ]
  },
  {
   "cell_type": "code",
   "execution_count": 4,
   "id": "2311373f",
   "metadata": {},
   "outputs": [
    {
     "name": "stdout",
     "output_type": "stream",
     "text": [
      "['name', 'nameseq', 'pangolineage', 'date', 'state', 'lat', 'long']\n"
     ]
    }
   ],
   "source": [
    "# Write updated rows to a new TSV file\n",
    "fieldnames = reader1.fieldnames + [\"lat\", \"long\"]\n",
    "print(fieldnames)\n",
    "with open(out_tsv_file, \"w\", encoding=\"utf-8\", newline=\"\") as outfile:\n",
    "    writer = csv.DictWriter(outfile, delimiter=\"\\t\", fieldnames=fieldnames)\n",
    "    writer.writeheader()\n",
    "    writer.writerows(outtsvlatlong)"
   ]
  },
  {
   "cell_type": "code",
   "execution_count": null,
   "id": "b01d7fc8",
   "metadata": {},
   "outputs": [],
   "source": []
  }
 ],
 "metadata": {
  "kernelspec": {
   "display_name": "Python 3 (ipykernel)",
   "language": "python",
   "name": "python3"
  }
 },
 "nbformat": 4,
 "nbformat_minor": 5
}
